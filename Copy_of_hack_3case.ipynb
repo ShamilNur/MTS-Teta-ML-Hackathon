{
  "nbformat": 4,
  "nbformat_minor": 5,
  "metadata": {
    "kernelspec": {
      "display_name": "Python 3",
      "language": "python",
      "name": "python3"
    },
    "language_info": {
      "codemirror_mode": {
        "name": "ipython",
        "version": 3
      },
      "file_extension": ".py",
      "mimetype": "text/x-python",
      "name": "python",
      "nbconvert_exporter": "python",
      "pygments_lexer": "ipython3",
      "version": "3.8.8"
    },
    "toc": {
      "base_numbering": 1,
      "nav_menu": {},
      "number_sections": false,
      "sideBar": true,
      "skip_h1_title": false,
      "title_cell": "Table of Contents",
      "title_sidebar": "Contents",
      "toc_cell": true,
      "toc_position": {},
      "toc_section_display": true,
      "toc_window_display": true
    },
    "colab": {
      "name": "Copy of hack_3case (3).ipynb",
      "provenance": [],
      "collapsed_sections": []
    }
  },
  "cells": [
    {
      "cell_type": "markdown",
      "metadata": {
        "toc": true,
        "id": "4f27cc86"
      },
      "source": [
        "<h1>Table of Contents<span class=\"tocSkip\"></span></h1>\n",
        "<div class=\"toc\"><ul class=\"toc-item\"><li><span><a href=\"#Создание-разметки\" data-toc-modified-id=\"Создание-разметки-1\">Создание разметки</a></span><ul class=\"toc-item\"><li><span><a href=\"#Загрузка-данных\" data-toc-modified-id=\"Загрузка-данных-1.1\">Загрузка данных</a></span></li><li><span><a href=\"#Функции-и-константы\" data-toc-modified-id=\"Функции-и-константы-1.2\">Функции и константы</a></span><ul class=\"toc-item\"><li><span><a href=\"#Get\" data-toc-modified-id=\"Get-1.2.1\">Get</a></span></li><li><span><a href=\"#Outliers\" data-toc-modified-id=\"Outliers-1.2.2\">Outliers</a></span></li><li><span><a href=\"#Уменьшение-категорий-в-фичах\" data-toc-modified-id=\"Уменьшение-категорий-в-фичах-1.2.3\">Уменьшение категорий в фичах</a></span></li><li><span><a href=\"#Разметка\" data-toc-modified-id=\"Разметка-1.2.4\">Разметка</a></span></li><li><span><a href=\"#Количество-потоков-в-вычислении\" data-toc-modified-id=\"Количество-потоков-в-вычислении-1.2.5\">Количество потоков в вычислении</a></span></li></ul></li><li><span><a href=\"#Sample_100\" data-toc-modified-id=\"Sample_100-1.3\">Sample_100</a></span></li><li><span><a href=\"#Sample_10k\" data-toc-modified-id=\"Sample_10k-1.4\">Sample_10k</a></span></li></ul></li><li><span><a href=\"#Работа-с-размеченными-данными\" data-toc-modified-id=\"Работа-с-размеченными-данными-2\">Работа с размеченными данными</a></span><ul class=\"toc-item\"><li><span><a href=\"#Загрузка-размеченных-данных\" data-toc-modified-id=\"Загрузка-размеченных-данных-2.1\">Загрузка размеченных данных</a></span></li><li><span><a href=\"#Удаление-дубликатов\" data-toc-modified-id=\"Удаление-дубликатов-2.2\">Удаление дубликатов</a></span></li><li><span><a href=\"#Создание-фичей\" data-toc-modified-id=\"Создание-фичей-2.3\">Создание фичей</a></span></li><li><span><a href=\"#Разработка-модели\" data-toc-modified-id=\"Разработка-модели-2.4\">Разработка модели</a></span><ul class=\"toc-item\"><li><span><a href=\"#Features-&amp;-Target\" data-toc-modified-id=\"Features-&amp;-Target-2.4.1\">Features &amp; Target</a></span></li><li><span><a href=\"#Train-&amp;-Test\" data-toc-modified-id=\"Train-&amp;-Test-2.4.2\">Train &amp; Test</a></span></li><li><span><a href=\"#Подбор-гипперпараметров-модели\" data-toc-modified-id=\"Подбор-гипперпараметров-модели-2.4.3\">Подбор гипперпараметров модели</a></span></li></ul></li><li><span><a href=\"#Тестирование-модели\" data-toc-modified-id=\"Тестирование-модели-2.5\">Тестирование модели</a></span></li><li><span><a href=\"#Feature-importances\" data-toc-modified-id=\"Feature-importances-2.6\">Feature importances</a></span></li><li><span><a href=\"#Категоризация-хостов\" data-toc-modified-id=\"Категоризация-хостов-2.7\">Категоризация хостов</a></span></li></ul></li></ul></div>"
      ],
      "id": "4f27cc86"
    },
    {
      "cell_type": "code",
      "metadata": {
        "id": "1i9mWfwlqV7u"
      },
      "source": [
        "!pip install -q catboost"
      ],
      "id": "1i9mWfwlqV7u",
      "execution_count": 2,
      "outputs": []
    },
    {
      "cell_type": "markdown",
      "metadata": {
        "id": "1fcb9d3d"
      },
      "source": [
        "# Создание разметки"
      ],
      "id": "1fcb9d3d"
    },
    {
      "cell_type": "code",
      "metadata": {
        "id": "e4a3d30a"
      },
      "source": [
        "import os\n",
        "import re\n",
        "import time\n",
        "import math\n",
        "import requests\n",
        "import numpy as np\n",
        "import pandas as pd\n",
        "from IPython.display import HTML\n",
        "\n",
        "from concurrent.futures import ThreadPoolExecutor\n",
        "\n",
        "from datetime import datetime, timedelta\n",
        "\n",
        "import matplotlib.pyplot as plt\n",
        "import seaborn as sns\n",
        "\n",
        "#import plotly\n",
        "#import plotly.offline as py #working offline\n",
        "#import plotly.graph_objs as go\n",
        "#import plotly.express as px\n",
        "\n",
        "from sklearn.model_selection import train_test_split\n",
        "from sklearn.model_selection import cross_val_score\n",
        "from sklearn.metrics import precision_score\n",
        "\n",
        "from catboost import CatBoostClassifier"
      ],
      "id": "e4a3d30a",
      "execution_count": 3,
      "outputs": []
    },
    {
      "cell_type": "code",
      "metadata": {
        "id": "37e17dfa"
      },
      "source": [
        "import warnings\n",
        "warnings.filterwarnings(\"ignore\")"
      ],
      "id": "37e17dfa",
      "execution_count": 4,
      "outputs": []
    },
    {
      "cell_type": "code",
      "metadata": {
        "id": "2176c1c3"
      },
      "source": [
        "#py.init_notebook_mode()\n",
        "sns.set_theme(style='whitegrid')\n",
        "plt.rcParams[\"figure.figsize\"] = (18,6)\n",
        "plt.rcParams[\"figure.dpi\"] = 80\n",
        "plt.rcParams[\"figure.titlesize\"] = 20\n",
        "plt.rcParams[\"axes.labelsize\"] = 14\n",
        "plt.rcParams[\"axes.titlesize\"] = 16\n",
        "plt.rcParams[\"xtick.labelsize\"] = 12\n",
        "plt.rcParams[\"ytick.labelsize\"] = 12"
      ],
      "id": "2176c1c3",
      "execution_count": 5,
      "outputs": []
    },
    {
      "cell_type": "markdown",
      "metadata": {
        "id": "9448144a"
      },
      "source": [
        "## Загрузка данных"
      ],
      "id": "9448144a"
    },
    {
      "cell_type": "code",
      "metadata": {
        "id": "1ac1714c"
      },
      "source": [
        "path = \"/content\"\n",
        "\n",
        "file_name_1 = 'host_info.csv'\n",
        "file_name_2 = 'test_host_info.csv'\n",
        "\n",
        "df_1 = pd.read_csv(os.path.join(path, file_name_1), header=None, names=[\"host\", \"status\", \"content_type\"])\n",
        "df_2 = pd.read_csv(os.path.join(path, file_name_2), header=None, names=[\"host\", \"status\", \"content_type\"])"
      ],
      "id": "1ac1714c",
      "execution_count": 15,
      "outputs": []
    },
    {
      "cell_type": "code",
      "metadata": {
        "id": "5fb59393"
      },
      "source": [
        "df_sample = all_data.sample(n=10000, random_state=42).reset_index(drop=True).copy()"
      ],
      "id": "5fb59393",
      "execution_count": null,
      "outputs": []
    },
    {
      "cell_type": "markdown",
      "metadata": {
        "id": "cc3f8236"
      },
      "source": [
        "## Функции и константы"
      ],
      "id": "cc3f8236"
    },
    {
      "cell_type": "markdown",
      "metadata": {
        "id": "3be5a421"
      },
      "source": [
        "### Get"
      ],
      "id": "3be5a421"
    },
    {
      "cell_type": "code",
      "metadata": {
        "id": "2c36d962"
      },
      "source": [
        "def get_func(x):\n",
        "    try:\n",
        "        r = requests.get(x, timeout=3)#.headers['Content-Type']\n",
        "        r.headers['Content-Type']\n",
        "        return 0, r.status_code\n",
        "    except:\n",
        "        return 1, None"
      ],
      "id": "2c36d962",
      "execution_count": null,
      "outputs": []
    },
    {
      "cell_type": "markdown",
      "metadata": {
        "id": "5334b829"
      },
      "source": [
        "### Outliers"
      ],
      "id": "5334b829"
    },
    {
      "cell_type": "code",
      "metadata": {
        "id": "d790738f"
      },
      "source": [
        "def drop_outliers(series, n_of_iqr=1.5):\n",
        "    q75, q25 = np.nanpercentile(series,(75,25))\n",
        "    iqr = q75 - q25\n",
        "\n",
        "    max_value = q75 + (n_of_iqr * iqr)\n",
        "    min_value = q25 - (n_of_iqr * iqr)\n",
        "\n",
        "    series.loc[series < min_value] = np.nan\n",
        "    series.loc[series > max_value] = np.nan"
      ],
      "id": "d790738f",
      "execution_count": 102,
      "outputs": []
    },
    {
      "cell_type": "markdown",
      "metadata": {
        "id": "c45d9280"
      },
      "source": [
        "### Уменьшение категорий в фичах"
      ],
      "id": "c45d9280"
    },
    {
      "cell_type": "code",
      "metadata": {
        "id": "1e74c322"
      },
      "source": [
        "def cat_featering(feature_name):\n",
        "    series = data[feature_name].value_counts(normalize=True).copy()\n",
        "    drop_outliers(series)\n",
        "\n",
        "    data[feature_name] = data[feature_name].apply(lambda x: 'OTHER' if x in series.dropna().index else x)\n",
        "    del series\n",
        "    #return df_sample[feature_name].value_counts(normalize=True)"
      ],
      "id": "1e74c322",
      "execution_count": 104,
      "outputs": []
    },
    {
      "cell_type": "markdown",
      "metadata": {
        "id": "7011cb36"
      },
      "source": [
        "### Разметка"
      ],
      "id": "7011cb36"
    },
    {
      "cell_type": "code",
      "metadata": {
        "colab": {
          "base_uri": "https://localhost:8080/",
          "height": 419
        },
        "id": "I0NUQFYcrtC6",
        "outputId": "516e8512-8cd8-41fe-9d0f-652508540597"
      },
      "source": [
        "data = pd.concat((df_1, df_2)).drop_duplicates(\"host\", ignore_index=True)\n",
        "data"
      ],
      "id": "I0NUQFYcrtC6",
      "execution_count": 118,
      "outputs": [
        {
          "output_type": "execute_result",
          "data": {
            "text/html": [
              "<div>\n",
              "<style scoped>\n",
              "    .dataframe tbody tr th:only-of-type {\n",
              "        vertical-align: middle;\n",
              "    }\n",
              "\n",
              "    .dataframe tbody tr th {\n",
              "        vertical-align: top;\n",
              "    }\n",
              "\n",
              "    .dataframe thead th {\n",
              "        text-align: right;\n",
              "    }\n",
              "</style>\n",
              "<table border=\"1\" class=\"dataframe\">\n",
              "  <thead>\n",
              "    <tr style=\"text-align: right;\">\n",
              "      <th></th>\n",
              "      <th>host</th>\n",
              "      <th>status</th>\n",
              "      <th>content_type</th>\n",
              "    </tr>\n",
              "  </thead>\n",
              "  <tbody>\n",
              "    <tr>\n",
              "      <th>0</th>\n",
              "      <td>favicon.yandex.net</td>\n",
              "      <td>404.0</td>\n",
              "      <td>NaN</td>\n",
              "    </tr>\n",
              "    <tr>\n",
              "      <th>1</th>\n",
              "      <td>sun3-8.userapi.com</td>\n",
              "      <td>403.0</td>\n",
              "      <td>text/html</td>\n",
              "    </tr>\n",
              "    <tr>\n",
              "      <th>2</th>\n",
              "      <td>mitdmp.whiteboxdigital.ru</td>\n",
              "      <td>404.0</td>\n",
              "      <td>NaN</td>\n",
              "    </tr>\n",
              "    <tr>\n",
              "      <th>3</th>\n",
              "      <td>passport-authproxy.taxi.yandex.net</td>\n",
              "      <td>404.0</td>\n",
              "      <td>application/json; charset=utf-8</td>\n",
              "    </tr>\n",
              "    <tr>\n",
              "      <th>4</th>\n",
              "      <td>hs.yandex.ru</td>\n",
              "      <td>404.0</td>\n",
              "      <td>NaN</td>\n",
              "    </tr>\n",
              "    <tr>\n",
              "      <th>...</th>\n",
              "      <td>...</td>\n",
              "      <td>...</td>\n",
              "      <td>...</td>\n",
              "    </tr>\n",
              "    <tr>\n",
              "      <th>15145</th>\n",
              "      <td>consent.trustarc.com</td>\n",
              "      <td>404.0</td>\n",
              "      <td>text/html; charset=UTF-8</td>\n",
              "    </tr>\n",
              "    <tr>\n",
              "      <th>15146</th>\n",
              "      <td>naeu.geo.cloudwm-cdn.com</td>\n",
              "      <td>404.0</td>\n",
              "      <td>text/html</td>\n",
              "    </tr>\n",
              "    <tr>\n",
              "      <th>15147</th>\n",
              "      <td>live.primis.tech</td>\n",
              "      <td>NaN</td>\n",
              "      <td>NaN</td>\n",
              "    </tr>\n",
              "    <tr>\n",
              "      <th>15148</th>\n",
              "      <td>game.clashroyaleapp.com</td>\n",
              "      <td>NaN</td>\n",
              "      <td>NaN</td>\n",
              "    </tr>\n",
              "    <tr>\n",
              "      <th>15149</th>\n",
              "      <td>pushdata.sendpulse.com</td>\n",
              "      <td>NaN</td>\n",
              "      <td>NaN</td>\n",
              "    </tr>\n",
              "  </tbody>\n",
              "</table>\n",
              "<p>15150 rows × 3 columns</p>\n",
              "</div>"
            ],
            "text/plain": [
              "                                     host  ...                     content_type\n",
              "0                      favicon.yandex.net  ...                              NaN\n",
              "1                      sun3-8.userapi.com  ...                        text/html\n",
              "2               mitdmp.whiteboxdigital.ru  ...                              NaN\n",
              "3      passport-authproxy.taxi.yandex.net  ...  application/json; charset=utf-8\n",
              "4                            hs.yandex.ru  ...                              NaN\n",
              "...                                   ...  ...                              ...\n",
              "15145                consent.trustarc.com  ...         text/html; charset=UTF-8\n",
              "15146            naeu.geo.cloudwm-cdn.com  ...                        text/html\n",
              "15147                    live.primis.tech  ...                              NaN\n",
              "15148             game.clashroyaleapp.com  ...                              NaN\n",
              "15149              pushdata.sendpulse.com  ...                              NaN\n",
              "\n",
              "[15150 rows x 3 columns]"
            ]
          },
          "metadata": {
            "tags": []
          },
          "execution_count": 118
        }
      ]
    },
    {
      "cell_type": "code",
      "metadata": {
        "id": "zCmcxyr6tySy"
      },
      "source": [
        "data[\"content_type\"] = data.content_type.astype(str).apply(\n",
        "                            lambda x: x.split(\";\")[0] \n",
        "                            if x.find(\"charset\") or x.find(\"Charset\") else str(x))"
      ],
      "id": "zCmcxyr6tySy",
      "execution_count": 119,
      "outputs": []
    },
    {
      "cell_type": "code",
      "metadata": {
        "colab": {
          "base_uri": "https://localhost:8080/",
          "height": 419
        },
        "id": "vD8IBKnNv-x7",
        "outputId": "f082a023-7e2e-4372-d6ee-71540f1177f8"
      },
      "source": [
        "data"
      ],
      "id": "vD8IBKnNv-x7",
      "execution_count": 120,
      "outputs": [
        {
          "output_type": "execute_result",
          "data": {
            "text/html": [
              "<div>\n",
              "<style scoped>\n",
              "    .dataframe tbody tr th:only-of-type {\n",
              "        vertical-align: middle;\n",
              "    }\n",
              "\n",
              "    .dataframe tbody tr th {\n",
              "        vertical-align: top;\n",
              "    }\n",
              "\n",
              "    .dataframe thead th {\n",
              "        text-align: right;\n",
              "    }\n",
              "</style>\n",
              "<table border=\"1\" class=\"dataframe\">\n",
              "  <thead>\n",
              "    <tr style=\"text-align: right;\">\n",
              "      <th></th>\n",
              "      <th>host</th>\n",
              "      <th>status</th>\n",
              "      <th>content_type</th>\n",
              "    </tr>\n",
              "  </thead>\n",
              "  <tbody>\n",
              "    <tr>\n",
              "      <th>0</th>\n",
              "      <td>favicon.yandex.net</td>\n",
              "      <td>404.0</td>\n",
              "      <td>nan</td>\n",
              "    </tr>\n",
              "    <tr>\n",
              "      <th>1</th>\n",
              "      <td>sun3-8.userapi.com</td>\n",
              "      <td>403.0</td>\n",
              "      <td>text/html</td>\n",
              "    </tr>\n",
              "    <tr>\n",
              "      <th>2</th>\n",
              "      <td>mitdmp.whiteboxdigital.ru</td>\n",
              "      <td>404.0</td>\n",
              "      <td>nan</td>\n",
              "    </tr>\n",
              "    <tr>\n",
              "      <th>3</th>\n",
              "      <td>passport-authproxy.taxi.yandex.net</td>\n",
              "      <td>404.0</td>\n",
              "      <td>application/json</td>\n",
              "    </tr>\n",
              "    <tr>\n",
              "      <th>4</th>\n",
              "      <td>hs.yandex.ru</td>\n",
              "      <td>404.0</td>\n",
              "      <td>nan</td>\n",
              "    </tr>\n",
              "    <tr>\n",
              "      <th>...</th>\n",
              "      <td>...</td>\n",
              "      <td>...</td>\n",
              "      <td>...</td>\n",
              "    </tr>\n",
              "    <tr>\n",
              "      <th>15145</th>\n",
              "      <td>consent.trustarc.com</td>\n",
              "      <td>404.0</td>\n",
              "      <td>text/html</td>\n",
              "    </tr>\n",
              "    <tr>\n",
              "      <th>15146</th>\n",
              "      <td>naeu.geo.cloudwm-cdn.com</td>\n",
              "      <td>404.0</td>\n",
              "      <td>text/html</td>\n",
              "    </tr>\n",
              "    <tr>\n",
              "      <th>15147</th>\n",
              "      <td>live.primis.tech</td>\n",
              "      <td>NaN</td>\n",
              "      <td>nan</td>\n",
              "    </tr>\n",
              "    <tr>\n",
              "      <th>15148</th>\n",
              "      <td>game.clashroyaleapp.com</td>\n",
              "      <td>NaN</td>\n",
              "      <td>nan</td>\n",
              "    </tr>\n",
              "    <tr>\n",
              "      <th>15149</th>\n",
              "      <td>pushdata.sendpulse.com</td>\n",
              "      <td>NaN</td>\n",
              "      <td>nan</td>\n",
              "    </tr>\n",
              "  </tbody>\n",
              "</table>\n",
              "<p>15150 rows × 3 columns</p>\n",
              "</div>"
            ],
            "text/plain": [
              "                                     host  status      content_type\n",
              "0                      favicon.yandex.net   404.0               nan\n",
              "1                      sun3-8.userapi.com   403.0         text/html\n",
              "2               mitdmp.whiteboxdigital.ru   404.0               nan\n",
              "3      passport-authproxy.taxi.yandex.net   404.0  application/json\n",
              "4                            hs.yandex.ru   404.0               nan\n",
              "...                                   ...     ...               ...\n",
              "15145                consent.trustarc.com   404.0         text/html\n",
              "15146            naeu.geo.cloudwm-cdn.com   404.0         text/html\n",
              "15147                    live.primis.tech     NaN               nan\n",
              "15148             game.clashroyaleapp.com     NaN               nan\n",
              "15149              pushdata.sendpulse.com     NaN               nan\n",
              "\n",
              "[15150 rows x 3 columns]"
            ]
          },
          "metadata": {
            "tags": []
          },
          "execution_count": 120
        }
      ]
    },
    {
      "cell_type": "code",
      "metadata": {
        "id": "Ppjw00K_wviP"
      },
      "source": [
        "labels = []\n",
        "for row in data.iterrows():\n",
        "    if row[1].values[1] != 403.0 and row[1].values[2] == \"text/html\":\n",
        "        labels.append(0)\n",
        "    else:\n",
        "        labels.append(1)"
      ],
      "id": "Ppjw00K_wviP",
      "execution_count": 121,
      "outputs": []
    },
    {
      "cell_type": "code",
      "metadata": {
        "id": "3f137f02"
      },
      "source": [
        "data[\"label\"] = labels"
      ],
      "id": "3f137f02",
      "execution_count": 122,
      "outputs": []
    },
    {
      "cell_type": "code",
      "metadata": {
        "colab": {
          "base_uri": "https://localhost:8080/"
        },
        "id": "MjMgZIUlzY9q",
        "outputId": "6cd6008e-a291-4af3-8adf-33eda09bf3f9"
      },
      "source": [
        "data.label.value_counts()"
      ],
      "id": "MjMgZIUlzY9q",
      "execution_count": 123,
      "outputs": [
        {
          "output_type": "execute_result",
          "data": {
            "text/plain": [
              "0    7905\n",
              "1    7245\n",
              "Name: label, dtype: int64"
            ]
          },
          "metadata": {
            "tags": []
          },
          "execution_count": 123
        }
      ]
    },
    {
      "cell_type": "markdown",
      "metadata": {
        "id": "c2dcece8"
      },
      "source": [
        "### Количество потоков в вычислении"
      ],
      "id": "c2dcece8"
    },
    {
      "cell_type": "code",
      "metadata": {
        "id": "5032fb34"
      },
      "source": [
        "Thread = 32"
      ],
      "id": "5032fb34",
      "execution_count": null,
      "outputs": []
    },
    {
      "cell_type": "markdown",
      "metadata": {
        "id": "f7ec61af"
      },
      "source": [
        "## Sample_100"
      ],
      "id": "f7ec61af"
    },
    {
      "cell_type": "markdown",
      "metadata": {
        "id": "9c35dd99"
      },
      "source": [
        "```python\n",
        "df['label'] = labelin_func(df)\n",
        "```"
      ],
      "id": "9c35dd99"
    },
    {
      "cell_type": "markdown",
      "metadata": {
        "id": "c95b5f3e"
      },
      "source": [
        "## Sample_10k"
      ],
      "id": "c95b5f3e"
    },
    {
      "cell_type": "markdown",
      "metadata": {
        "id": "e67d47e2"
      },
      "source": [
        "```python\n",
        "df_sample['label'] = labelin_func(df_sample)\n",
        "```"
      ],
      "id": "e67d47e2"
    },
    {
      "cell_type": "markdown",
      "metadata": {
        "id": "994e8b4f"
      },
      "source": [
        "```python\n",
        "file_name = 'df_with_label_10k.csv'\n",
        "df_sample.to_csv(os.path.join(path, file_name), index=True)\n",
        "```"
      ],
      "id": "994e8b4f"
    },
    {
      "cell_type": "markdown",
      "metadata": {
        "id": "dfcf0ab8"
      },
      "source": [
        "# Работа с размеченными данными"
      ],
      "id": "dfcf0ab8"
    },
    {
      "cell_type": "markdown",
      "metadata": {
        "id": "c407b3f0"
      },
      "source": [
        "## Загрузка размеченных данных"
      ],
      "id": "c407b3f0"
    },
    {
      "cell_type": "code",
      "metadata": {
        "id": "788b93a5",
        "outputId": "937b9a19-2eda-42c7-f8d0-d467ec8c96a3"
      },
      "source": [
        "path = r'd:\\Мои документы\\datasets\\mtc'\n",
        "file_name_1 = 'df_with_label.csv'\n",
        "file_name_2 = 'df_with_label_30_40.csv'\n",
        "#file_name = 'host_processed.csv'\n",
        "#df_sample = pd.read_csv(os.path.join(path, file_name), header = None, names=['domen_name'])\n",
        "\n",
        "df_sample_1 = pd.read_csv(os.path.join(path, file_name_1)).drop(columns=['Unnamed: 0'])\n",
        "df_sample_2 = pd.read_csv(os.path.join(path, file_name_2)).drop(columns=['Unnamed: 0'])\n",
        "df_sample = pd.concat([df_sample_1, df_sample_2], ignore_index=True)\n",
        "df_sample"
      ],
      "id": "788b93a5",
      "execution_count": null,
      "outputs": [
        {
          "output_type": "execute_result",
          "data": {
            "text/html": [
              "<div>\n",
              "<style scoped>\n",
              "    .dataframe tbody tr th:only-of-type {\n",
              "        vertical-align: middle;\n",
              "    }\n",
              "\n",
              "    .dataframe tbody tr th {\n",
              "        vertical-align: top;\n",
              "    }\n",
              "\n",
              "    .dataframe thead th {\n",
              "        text-align: right;\n",
              "    }\n",
              "</style>\n",
              "<table border=\"1\" class=\"dataframe\">\n",
              "  <thead>\n",
              "    <tr style=\"text-align: right;\">\n",
              "      <th></th>\n",
              "      <th>domen_name</th>\n",
              "      <th>url</th>\n",
              "      <th>label</th>\n",
              "      <th>status_code</th>\n",
              "    </tr>\n",
              "  </thead>\n",
              "  <tbody>\n",
              "    <tr>\n",
              "      <th>0</th>\n",
              "      <td>clientservices.googleapis.com</td>\n",
              "      <td>http://clientservices.googleapis.com</td>\n",
              "      <td>0</td>\n",
              "      <td>404</td>\n",
              "    </tr>\n",
              "    <tr>\n",
              "      <th>1</th>\n",
              "      <td>ads.travelaudience.com</td>\n",
              "      <td>http://ads.travelaudience.com</td>\n",
              "      <td>1</td>\n",
              "      <td>None</td>\n",
              "    </tr>\n",
              "    <tr>\n",
              "      <th>2</th>\n",
              "      <td>4d50bf49a3c12010ab594dff7964a3ca.safeframe.goo...</td>\n",
              "      <td>http://4d50bf49a3c12010ab594dff7964a3ca.safefr...</td>\n",
              "      <td>0</td>\n",
              "      <td>404</td>\n",
              "    </tr>\n",
              "    <tr>\n",
              "      <th>3</th>\n",
              "      <td>c.whatsapp.net</td>\n",
              "      <td>http://c.whatsapp.net</td>\n",
              "      <td>1</td>\n",
              "      <td>None</td>\n",
              "    </tr>\n",
              "    <tr>\n",
              "      <th>4</th>\n",
              "      <td>dmp.gotechnology.io</td>\n",
              "      <td>http://dmp.gotechnology.io</td>\n",
              "      <td>0</td>\n",
              "      <td>403</td>\n",
              "    </tr>\n",
              "    <tr>\n",
              "      <th>...</th>\n",
              "      <td>...</td>\n",
              "      <td>...</td>\n",
              "      <td>...</td>\n",
              "      <td>...</td>\n",
              "    </tr>\n",
              "    <tr>\n",
              "      <th>19995</th>\n",
              "      <td>d280pffqtvekyf.cloudfront.net</td>\n",
              "      <td>http://d280pffqtvekyf.cloudfront.net</td>\n",
              "      <td>0</td>\n",
              "      <td>403</td>\n",
              "    </tr>\n",
              "    <tr>\n",
              "      <th>19996</th>\n",
              "      <td>yandex.st</td>\n",
              "      <td>http://yandex.st</td>\n",
              "      <td>0</td>\n",
              "      <td>200</td>\n",
              "    </tr>\n",
              "    <tr>\n",
              "      <th>19997</th>\n",
              "      <td>ocsp.usertrust.com</td>\n",
              "      <td>http://ocsp.usertrust.com</td>\n",
              "      <td>0</td>\n",
              "      <td>200</td>\n",
              "    </tr>\n",
              "    <tr>\n",
              "      <th>19998</th>\n",
              "      <td>cloud-api.yandex.net</td>\n",
              "      <td>http://cloud-api.yandex.net</td>\n",
              "      <td>1</td>\n",
              "      <td>None</td>\n",
              "    </tr>\n",
              "    <tr>\n",
              "      <th>19999</th>\n",
              "      <td>abt-prod-us-east-1-content-star-132865627.us-e...</td>\n",
              "      <td>http://abt-prod-us-east-1-content-star-1328656...</td>\n",
              "      <td>1</td>\n",
              "      <td>None</td>\n",
              "    </tr>\n",
              "  </tbody>\n",
              "</table>\n",
              "<p>20000 rows × 4 columns</p>\n",
              "</div>"
            ],
            "text/plain": [
              "                                              domen_name  \\\n",
              "0                          clientservices.googleapis.com   \n",
              "1                                 ads.travelaudience.com   \n",
              "2      4d50bf49a3c12010ab594dff7964a3ca.safeframe.goo...   \n",
              "3                                         c.whatsapp.net   \n",
              "4                                    dmp.gotechnology.io   \n",
              "...                                                  ...   \n",
              "19995                      d280pffqtvekyf.cloudfront.net   \n",
              "19996                                          yandex.st   \n",
              "19997                                 ocsp.usertrust.com   \n",
              "19998                               cloud-api.yandex.net   \n",
              "19999  abt-prod-us-east-1-content-star-132865627.us-e...   \n",
              "\n",
              "                                                     url  label status_code  \n",
              "0                   http://clientservices.googleapis.com      0         404  \n",
              "1                          http://ads.travelaudience.com      1        None  \n",
              "2      http://4d50bf49a3c12010ab594dff7964a3ca.safefr...      0         404  \n",
              "3                                  http://c.whatsapp.net      1        None  \n",
              "4                             http://dmp.gotechnology.io      0         403  \n",
              "...                                                  ...    ...         ...  \n",
              "19995               http://d280pffqtvekyf.cloudfront.net      0         403  \n",
              "19996                                   http://yandex.st      0         200  \n",
              "19997                          http://ocsp.usertrust.com      0         200  \n",
              "19998                        http://cloud-api.yandex.net      1        None  \n",
              "19999  http://abt-prod-us-east-1-content-star-1328656...      1        None  \n",
              "\n",
              "[20000 rows x 4 columns]"
            ]
          },
          "metadata": {
            "tags": []
          },
          "execution_count": 12
        }
      ]
    },
    {
      "cell_type": "markdown",
      "metadata": {
        "id": "431c1c0d"
      },
      "source": [
        "## Удаление дубликатов"
      ],
      "id": "431c1c0d"
    },
    {
      "cell_type": "code",
      "metadata": {
        "id": "6967b975"
      },
      "source": [
        "df_sample.drop_duplicates(subset=['domen_name'], inplace=True, ignore_index=True)"
      ],
      "id": "6967b975",
      "execution_count": null,
      "outputs": []
    },
    {
      "cell_type": "code",
      "metadata": {
        "id": "0760b2c0",
        "outputId": "773ae231-01b5-46d9-c82f-dfd761460829"
      },
      "source": [
        "df_sample.shape"
      ],
      "id": "0760b2c0",
      "execution_count": null,
      "outputs": [
        {
          "output_type": "execute_result",
          "data": {
            "text/plain": [
              "(10178, 4)"
            ]
          },
          "metadata": {
            "tags": []
          },
          "execution_count": 14
        }
      ]
    },
    {
      "cell_type": "code",
      "metadata": {
        "id": "65a4b567",
        "outputId": "a86d0563-76ca-4aaa-baff-3568f4856182"
      },
      "source": [
        "df_sample['label'].value_counts(normalize=True)"
      ],
      "id": "65a4b567",
      "execution_count": null,
      "outputs": [
        {
          "output_type": "execute_result",
          "data": {
            "text/plain": [
              "0    0.768127\n",
              "1    0.231873\n",
              "Name: label, dtype: float64"
            ]
          },
          "metadata": {
            "tags": []
          },
          "execution_count": 15
        }
      ]
    },
    {
      "cell_type": "markdown",
      "metadata": {
        "id": "9d2f677f"
      },
      "source": [
        "## Создание фичей"
      ],
      "id": "9d2f677f"
    },
    {
      "cell_type": "code",
      "metadata": {
        "id": "23538484"
      },
      "source": [
        "data['host'] = data['host'].str.strip()\n",
        "data['top_domen'] = data['host'].apply(lambda x: x.split('.')[-1])\n",
        "data['2_domen'] = data['host'].apply(lambda x: x.split('.')[-2])\n",
        "data['3_domen'] = data['host'].apply(lambda x: x.split('.')[-3] if len(x.split('.')) > 2 else None)\n",
        "\n",
        "data['domen_len'] = data['host'].apply(lambda x: len(x.split('.')))\n",
        "data['len_coeff'] = data['host'].apply(lambda x: len(''.join(x.split('.'))) / len(x.split('.')))"
      ],
      "id": "23538484",
      "execution_count": 124,
      "outputs": []
    },
    {
      "cell_type": "code",
      "metadata": {
        "id": "3d9145a7",
        "colab": {
          "base_uri": "https://localhost:8080/"
        },
        "outputId": "1e9e581a-84ec-49a8-a305-337a6c01420c"
      },
      "source": [
        "data.isna().sum()"
      ],
      "id": "3d9145a7",
      "execution_count": 125,
      "outputs": [
        {
          "output_type": "execute_result",
          "data": {
            "text/plain": [
              "host               0\n",
              "status          1148\n",
              "content_type       0\n",
              "label              0\n",
              "top_domen          0\n",
              "2_domen            0\n",
              "3_domen         1451\n",
              "domen_len          0\n",
              "len_coeff          0\n",
              "dtype: int64"
            ]
          },
          "metadata": {
            "tags": []
          },
          "execution_count": 125
        }
      ]
    },
    {
      "cell_type": "code",
      "metadata": {
        "id": "ERvA4yUYzsw0"
      },
      "source": [
        "data = data.drop(\"status\", axis=1)\n",
        "data['3_domen'].fillna('EMPTY', inplace=True)"
      ],
      "id": "ERvA4yUYzsw0",
      "execution_count": 126,
      "outputs": []
    },
    {
      "cell_type": "code",
      "metadata": {
        "id": "fdd1f79b",
        "colab": {
          "base_uri": "https://localhost:8080/",
          "height": 439
        },
        "outputId": "3c8713d3-4fab-4407-999e-d36deec37627"
      },
      "source": [
        "sns.histplot(data['len_coeff'], bins=25)\n",
        "plt.show()"
      ],
      "id": "fdd1f79b",
      "execution_count": 127,
      "outputs": [
        {
          "output_type": "display_data",
          "data": {
            "image/png": "[encoded data removed]",
            "text/plain": [
              "<Figure size 1440x480 with 1 Axes>"
            ]
          },
          "metadata": {
            "tags": []
          }
        }
      ]
    },
    {
      "cell_type": "code",
      "metadata": {
        "id": "e7589b4f"
      },
      "source": [
        "cat_featering('top_domen')\n",
        "cat_featering('2_domen')\n",
        "cat_featering('3_domen')"
      ],
      "id": "e7589b4f",
      "execution_count": 128,
      "outputs": []
    },
    {
      "cell_type": "code",
      "metadata": {
        "id": "4e27d7ef"
      },
      "source": [
        "cat_features = ['top_domen', '2_domen', '3_domen', 'content_type']#'status_code',\n",
        "num_features = ['domen_len', 'len_coeff']\n",
        "\n",
        "data[cat_features] = data[cat_features].astype('category')"
      ],
      "id": "4e27d7ef",
      "execution_count": 129,
      "outputs": []
    },
    {
      "cell_type": "code",
      "metadata": {
        "id": "b9f0dd40",
        "colab": {
          "base_uri": "https://localhost:8080/"
        },
        "outputId": "014dffb3-ade9-4294-aa5c-80b040e2553e"
      },
      "source": [
        "data.info()"
      ],
      "id": "b9f0dd40",
      "execution_count": 130,
      "outputs": [
        {
          "output_type": "stream",
          "text": [
            "<class 'pandas.core.frame.DataFrame'>\n",
            "RangeIndex: 15150 entries, 0 to 15149\n",
            "Data columns (total 8 columns):\n",
            " #   Column        Non-Null Count  Dtype   \n",
            "---  ------        --------------  -----   \n",
            " 0   host          15150 non-null  object  \n",
            " 1   content_type  15150 non-null  category\n",
            " 2   label         15150 non-null  int64   \n",
            " 3   top_domen     15150 non-null  category\n",
            " 4   2_domen       15150 non-null  category\n",
            " 5   3_domen       15150 non-null  category\n",
            " 6   domen_len     15150 non-null  int64   \n",
            " 7   len_coeff     15150 non-null  float64 \n",
            "dtypes: category(4), float64(1), int64(2), object(1)\n",
            "memory usage: 637.4+ KB\n"
          ],
          "name": "stdout"
        }
      ]
    },
    {
      "cell_type": "code",
      "metadata": {
        "id": "b17d954b",
        "colab": {
          "base_uri": "https://localhost:8080/",
          "height": 419
        },
        "outputId": "700285f9-674f-4020-f981-0e4cebd23b9c"
      },
      "source": [
        "data"
      ],
      "id": "b17d954b",
      "execution_count": 131,
      "outputs": [
        {
          "output_type": "execute_result",
          "data": {
            "text/html": [
              "<div>\n",
              "<style scoped>\n",
              "    .dataframe tbody tr th:only-of-type {\n",
              "        vertical-align: middle;\n",
              "    }\n",
              "\n",
              "    .dataframe tbody tr th {\n",
              "        vertical-align: top;\n",
              "    }\n",
              "\n",
              "    .dataframe thead th {\n",
              "        text-align: right;\n",
              "    }\n",
              "</style>\n",
              "<table border=\"1\" class=\"dataframe\">\n",
              "  <thead>\n",
              "    <tr style=\"text-align: right;\">\n",
              "      <th></th>\n",
              "      <th>host</th>\n",
              "      <th>content_type</th>\n",
              "      <th>label</th>\n",
              "      <th>top_domen</th>\n",
              "      <th>2_domen</th>\n",
              "      <th>3_domen</th>\n",
              "      <th>domen_len</th>\n",
              "      <th>len_coeff</th>\n",
              "    </tr>\n",
              "  </thead>\n",
              "  <tbody>\n",
              "    <tr>\n",
              "      <th>0</th>\n",
              "      <td>favicon.yandex.net</td>\n",
              "      <td>nan</td>\n",
              "      <td>1</td>\n",
              "      <td>net</td>\n",
              "      <td>yandex</td>\n",
              "      <td>OTHER</td>\n",
              "      <td>3</td>\n",
              "      <td>5.333333</td>\n",
              "    </tr>\n",
              "    <tr>\n",
              "      <th>1</th>\n",
              "      <td>sun3-8.userapi.com</td>\n",
              "      <td>text/html</td>\n",
              "      <td>1</td>\n",
              "      <td>com</td>\n",
              "      <td>userapi</td>\n",
              "      <td>OTHER</td>\n",
              "      <td>3</td>\n",
              "      <td>5.333333</td>\n",
              "    </tr>\n",
              "    <tr>\n",
              "      <th>2</th>\n",
              "      <td>mitdmp.whiteboxdigital.ru</td>\n",
              "      <td>nan</td>\n",
              "      <td>1</td>\n",
              "      <td>ru</td>\n",
              "      <td>whiteboxdigital</td>\n",
              "      <td>mitdmp</td>\n",
              "      <td>3</td>\n",
              "      <td>7.666667</td>\n",
              "    </tr>\n",
              "    <tr>\n",
              "      <th>3</th>\n",
              "      <td>passport-authproxy.taxi.yandex.net</td>\n",
              "      <td>application/json</td>\n",
              "      <td>1</td>\n",
              "      <td>net</td>\n",
              "      <td>yandex</td>\n",
              "      <td>taxi</td>\n",
              "      <td>4</td>\n",
              "      <td>7.750000</td>\n",
              "    </tr>\n",
              "    <tr>\n",
              "      <th>4</th>\n",
              "      <td>hs.yandex.ru</td>\n",
              "      <td>nan</td>\n",
              "      <td>1</td>\n",
              "      <td>ru</td>\n",
              "      <td>yandex</td>\n",
              "      <td>OTHER</td>\n",
              "      <td>3</td>\n",
              "      <td>3.333333</td>\n",
              "    </tr>\n",
              "    <tr>\n",
              "      <th>...</th>\n",
              "      <td>...</td>\n",
              "      <td>...</td>\n",
              "      <td>...</td>\n",
              "      <td>...</td>\n",
              "      <td>...</td>\n",
              "      <td>...</td>\n",
              "      <td>...</td>\n",
              "      <td>...</td>\n",
              "    </tr>\n",
              "    <tr>\n",
              "      <th>15145</th>\n",
              "      <td>consent.trustarc.com</td>\n",
              "      <td>text/html</td>\n",
              "      <td>0</td>\n",
              "      <td>com</td>\n",
              "      <td>OTHER</td>\n",
              "      <td>OTHER</td>\n",
              "      <td>3</td>\n",
              "      <td>6.000000</td>\n",
              "    </tr>\n",
              "    <tr>\n",
              "      <th>15146</th>\n",
              "      <td>naeu.geo.cloudwm-cdn.com</td>\n",
              "      <td>text/html</td>\n",
              "      <td>0</td>\n",
              "      <td>com</td>\n",
              "      <td>OTHER</td>\n",
              "      <td>geo</td>\n",
              "      <td>4</td>\n",
              "      <td>5.250000</td>\n",
              "    </tr>\n",
              "    <tr>\n",
              "      <th>15147</th>\n",
              "      <td>live.primis.tech</td>\n",
              "      <td>nan</td>\n",
              "      <td>1</td>\n",
              "      <td>tech</td>\n",
              "      <td>OTHER</td>\n",
              "      <td>live</td>\n",
              "      <td>3</td>\n",
              "      <td>4.666667</td>\n",
              "    </tr>\n",
              "    <tr>\n",
              "      <th>15148</th>\n",
              "      <td>game.clashroyaleapp.com</td>\n",
              "      <td>nan</td>\n",
              "      <td>1</td>\n",
              "      <td>com</td>\n",
              "      <td>OTHER</td>\n",
              "      <td>game</td>\n",
              "      <td>3</td>\n",
              "      <td>7.000000</td>\n",
              "    </tr>\n",
              "    <tr>\n",
              "      <th>15149</th>\n",
              "      <td>pushdata.sendpulse.com</td>\n",
              "      <td>nan</td>\n",
              "      <td>1</td>\n",
              "      <td>com</td>\n",
              "      <td>OTHER</td>\n",
              "      <td>OTHER</td>\n",
              "      <td>3</td>\n",
              "      <td>6.666667</td>\n",
              "    </tr>\n",
              "  </tbody>\n",
              "</table>\n",
              "<p>15150 rows × 8 columns</p>\n",
              "</div>"
            ],
            "text/plain": [
              "                                     host  ... len_coeff\n",
              "0                      favicon.yandex.net  ...  5.333333\n",
              "1                      sun3-8.userapi.com  ...  5.333333\n",
              "2               mitdmp.whiteboxdigital.ru  ...  7.666667\n",
              "3      passport-authproxy.taxi.yandex.net  ...  7.750000\n",
              "4                            hs.yandex.ru  ...  3.333333\n",
              "...                                   ...  ...       ...\n",
              "15145                consent.trustarc.com  ...  6.000000\n",
              "15146            naeu.geo.cloudwm-cdn.com  ...  5.250000\n",
              "15147                    live.primis.tech  ...  4.666667\n",
              "15148             game.clashroyaleapp.com  ...  7.000000\n",
              "15149              pushdata.sendpulse.com  ...  6.666667\n",
              "\n",
              "[15150 rows x 8 columns]"
            ]
          },
          "metadata": {
            "tags": []
          },
          "execution_count": 131
        }
      ]
    },
    {
      "cell_type": "markdown",
      "metadata": {
        "id": "bd174cdf"
      },
      "source": [
        "## Разработка модели"
      ],
      "id": "bd174cdf"
    },
    {
      "cell_type": "markdown",
      "metadata": {
        "id": "bbf2170b"
      },
      "source": [
        "### Features & Target"
      ],
      "id": "bbf2170b"
    },
    {
      "cell_type": "code",
      "metadata": {
        "id": "e07624a9"
      },
      "source": [
        "features = data.drop(columns=['host', 'label'])\n",
        "target = data['label']"
      ],
      "id": "e07624a9",
      "execution_count": 132,
      "outputs": []
    },
    {
      "cell_type": "markdown",
      "metadata": {
        "id": "87481081"
      },
      "source": [
        "### Train & Test"
      ],
      "id": "87481081"
    },
    {
      "cell_type": "code",
      "metadata": {
        "id": "e741acdd"
      },
      "source": [
        "X_train, X_test, y_train, y_test = train_test_split(features, target, test_size=0.25, random_state=42)"
      ],
      "id": "e741acdd",
      "execution_count": 133,
      "outputs": []
    },
    {
      "cell_type": "code",
      "metadata": {
        "colab": {
          "base_uri": "https://localhost:8080/"
        },
        "id": "OegiUwB80x4x",
        "outputId": "c1dbed25-b470-4bb9-fbb7-bf3bbaed6300"
      },
      "source": [
        "data.isna().sum()"
      ],
      "id": "OegiUwB80x4x",
      "execution_count": 134,
      "outputs": [
        {
          "output_type": "execute_result",
          "data": {
            "text/plain": [
              "host            0\n",
              "content_type    0\n",
              "label           0\n",
              "top_domen       0\n",
              "2_domen         0\n",
              "3_domen         0\n",
              "domen_len       0\n",
              "len_coeff       0\n",
              "dtype: int64"
            ]
          },
          "metadata": {
            "tags": []
          },
          "execution_count": 134
        }
      ]
    },
    {
      "cell_type": "markdown",
      "metadata": {
        "id": "36529420"
      },
      "source": [
        "### Подбор гипперпараметров модели"
      ],
      "id": "36529420"
    },
    {
      "cell_type": "code",
      "metadata": {
        "id": "992e30db",
        "colab": {
          "base_uri": "https://localhost:8080/",
          "height": 68
        },
        "outputId": "a1178289-aee0-4d1c-d66a-cb338c654036"
      },
      "source": [
        "best_score = 0\n",
        "estimators, learning_r = 0, 0\n",
        "start_time = time.time()\n",
        "\n",
        "for i in np.arange(140, 152, 1):\n",
        "    for j in np.arange(0.64, 0.73, 0.01):\n",
        "        model = CatBoostClassifier(n_estimators=i,\n",
        "                                  learning_rate=j,\n",
        "                                  depth=3,\n",
        "                                  cat_features=cat_features,\n",
        "                                  verbose=100,\n",
        "                                  random_state=12345,\n",
        "                                  )\n",
        "\n",
        "        n_scores = cross_val_score(model,\n",
        "                                   X_train,\n",
        "                                   y_train,\n",
        "                                   scoring='precision_macro',\n",
        "                                   cv=5,\n",
        "                                   n_jobs=-1,\n",
        "                                   error_score='raise'\n",
        "                                  )\n",
        "\n",
        "        score = np.mean(np.abs(n_scores))\n",
        "\n",
        "        if score > best_score:\n",
        "            best_score = score\n",
        "            estimators = i\n",
        "            learning_r = j\n",
        "\n",
        "fit_time = time.time() - start_time\n",
        "\n",
        "display(HTML(f'<b>Гипперпараметры n_estimators:</b> <code>{estimators}</code>, <b>learning_rate:</b> <code>{learning_r:,.2f}</code>'))\n",
        "display(HTML(f'<b>Лучший precision_score: </b> <code>{best_score:,.3f}</code>'))\n",
        "display(HTML(f'<b>Время обучения: </b> <code>{fit_time:,.3f}</code> c'))"
      ],
      "id": "992e30db",
      "execution_count": 136,
      "outputs": [
        {
          "output_type": "display_data",
          "data": {
            "text/html": [
              "<b>Гипперпараметры n_estimators:</b> <code>140</code>, <b>learning_rate:</b> <code>0.64</code>"
            ],
            "text/plain": [
              "<IPython.core.display.HTML object>"
            ]
          },
          "metadata": {
            "tags": []
          }
        },
        {
          "output_type": "display_data",
          "data": {
            "text/html": [
              "<b>Лучший precision_score: </b> <code>0.943</code>"
            ],
            "text/plain": [
              "<IPython.core.display.HTML object>"
            ]
          },
          "metadata": {
            "tags": []
          }
        },
        {
          "output_type": "display_data",
          "data": {
            "text/html": [
              "<b>Время обучения: </b> <code>328.555</code> c"
            ],
            "text/plain": [
              "<IPython.core.display.HTML object>"
            ]
          },
          "metadata": {
            "tags": []
          }
        }
      ]
    },
    {
      "cell_type": "markdown",
      "metadata": {
        "id": "2883736a"
      },
      "source": [
        "## Тестирование модели"
      ],
      "id": "2883736a"
    },
    {
      "cell_type": "code",
      "metadata": {
        "id": "a35628b7",
        "colab": {
          "base_uri": "https://localhost:8080/",
          "height": 34
        },
        "outputId": "37a7b31e-ece7-4057-8f2f-289af6ee4815"
      },
      "source": [
        "model = CatBoostClassifier(n_estimators=estimators,\n",
        "                          learning_rate=learning_r,\n",
        "                          depth=3,\n",
        "                          cat_features=cat_features,\n",
        "                          verbose=False,\n",
        "                          random_state=12345,\n",
        "                         )\n",
        "model.fit(X_train, y_train)\n",
        "score_test = precision_score(y_test, model.predict(X_test), average='macro')\n",
        "\n",
        "display(HTML(f'<b>precision_score на тестовой выборке: </b> <code>{score_test:,.3f}</code>'))"
      ],
      "id": "a35628b7",
      "execution_count": 137,
      "outputs": [
        {
          "output_type": "display_data",
          "data": {
            "text/html": [
              "<b>precision_score на тестовой выборке: </b> <code>0.937</code>"
            ],
            "text/plain": [
              "<IPython.core.display.HTML object>"
            ]
          },
          "metadata": {
            "tags": []
          }
        }
      ]
    },
    {
      "cell_type": "markdown",
      "metadata": {
        "id": "bTNcpz9_2wDN"
      },
      "source": [
        "# Dump Model"
      ],
      "id": "bTNcpz9_2wDN"
    },
    {
      "cell_type": "code",
      "metadata": {
        "id": "rtxbEV2s29wh"
      },
      "source": [
        "import joblib"
      ],
      "id": "rtxbEV2s29wh",
      "execution_count": 140,
      "outputs": []
    },
    {
      "cell_type": "code",
      "metadata": {
        "id": "Yr1UEg-g2zX_"
      },
      "source": [
        "with open(\"host_classification_model.pkl\", \"wb\") as output:\n",
        "    joblib.dump(model, output)"
      ],
      "id": "Yr1UEg-g2zX_",
      "execution_count": 141,
      "outputs": []
    },
    {
      "cell_type": "markdown",
      "metadata": {
        "id": "a0631f5f"
      },
      "source": [
        "## Feature importances"
      ],
      "id": "a0631f5f"
    },
    {
      "cell_type": "code",
      "metadata": {
        "id": "4c37ed9a"
      },
      "source": [
        "fi = pd.DataFrame({'feature_importances':model.feature_importances_}, index=features.columns).sort_values(by='feature_importances', ascending=False)"
      ],
      "id": "4c37ed9a",
      "execution_count": 138,
      "outputs": []
    },
    {
      "cell_type": "code",
      "metadata": {
        "id": "dfa5dd29",
        "colab": {
          "base_uri": "https://localhost:8080/",
          "height": 454
        },
        "outputId": "d33db7eb-c50e-4a3d-8be8-ac51346ab177"
      },
      "source": [
        "fig = plt.figure()\n",
        "fig.suptitle(f'График важности признаков', x=.5, y=.95, fontsize=18)\n",
        "sns.barplot(data=fi, x='feature_importances', y=fi.index, linewidth=1, edgecolor='black')\n",
        "plt.grid(True, axis='x', linestyle=':', linewidth=1)\n",
        "plt.tick_params(axis='both', direction='out', length=6, width=1)\n",
        "plt.ylabel('')\n",
        "plt.xlabel('')\n",
        "plt.yticks(fontsize=14)\n",
        "plt.xticks(list(range(0,90,10)), fontsize=14)\n",
        "plt.show()"
      ],
      "id": "dfa5dd29",
      "execution_count": 139,
      "outputs": [
        {
          "output_type": "display_data",
          "data": {
            "image/png": "[encoded data removed]",
            "text/plain": [
              "<Figure size 1440x480 with 1 Axes>"
            ]
          },
          "metadata": {
            "tags": []
          }
        }
      ]
    },
    {
      "cell_type": "code",
      "metadata": {
        "id": "_eDqZG8w2bEJ"
      },
      "source": [
        ""
      ],
      "id": "_eDqZG8w2bEJ",
      "execution_count": null,
      "outputs": []
    }
  ]
}
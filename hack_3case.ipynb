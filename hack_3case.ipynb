{
 "cells": [
  {
   "cell_type": "markdown",
   "id": "1a9cf957",
   "metadata": {
    "toc": true
   },
   "source": [
    "<h1>Table of Contents<span class=\"tocSkip\"></span></h1>\n",
    "<div class=\"toc\"><ul class=\"toc-item\"><li><span><a href=\"#Создание-разметки\" data-toc-modified-id=\"Создание-разметки-1\">Создание разметки</a></span><ul class=\"toc-item\"><li><span><a href=\"#Загрузка-данных\" data-toc-modified-id=\"Загрузка-данных-1.1\">Загрузка данных</a></span></li><li><span><a href=\"#Функции\" data-toc-modified-id=\"Функции-1.2\">Функции</a></span><ul class=\"toc-item\"><li><span><a href=\"#Get\" data-toc-modified-id=\"Get-1.2.1\">Get</a></span></li><li><span><a href=\"#Outliers\" data-toc-modified-id=\"Outliers-1.2.2\">Outliers</a></span></li><li><span><a href=\"#Уменьшение-категорий-в-фичах\" data-toc-modified-id=\"Уменьшение-категорий-в-фичах-1.2.3\">Уменьшение категорий в фичах</a></span></li></ul></li><li><span><a href=\"#Количество-потоков-в-вычислении\" data-toc-modified-id=\"Количество-потоков-в-вычислении-1.3\">Количество потоков в вычислении</a></span></li><li><span><a href=\"#Sample_100\" data-toc-modified-id=\"Sample_100-1.4\">Sample_100</a></span></li><li><span><a href=\"#Sample_500\" data-toc-modified-id=\"Sample_500-1.5\">Sample_500</a></span></li><li><span><a href=\"#Sample_10k\" data-toc-modified-id=\"Sample_10k-1.6\">Sample_10k</a></span></li></ul></li><li><span><a href=\"#Работа-с-размеченными-данными\" data-toc-modified-id=\"Работа-с-размеченными-данными-2\">Работа с размеченными данными</a></span><ul class=\"toc-item\"><li><span><a href=\"#Загрузка-размеченных-данных\" data-toc-modified-id=\"Загрузка-размеченных-данных-2.1\">Загрузка размеченных данных</a></span></li><li><span><a href=\"#Создание-фичей\" data-toc-modified-id=\"Создание-фичей-2.2\">Создание фичей</a></span></li><li><span><a href=\"#Разработка-модели\" data-toc-modified-id=\"Разработка-модели-2.3\">Разработка модели</a></span><ul class=\"toc-item\"><li><span><a href=\"#Features-&amp;-Target\" data-toc-modified-id=\"Features-&amp;-Target-2.3.1\">Features &amp; Target</a></span></li><li><span><a href=\"#Train-&amp;-Test\" data-toc-modified-id=\"Train-&amp;-Test-2.3.2\">Train &amp; Test</a></span></li><li><span><a href=\"#Подбор-гипперпараметров-модели\" data-toc-modified-id=\"Подбор-гипперпараметров-модели-2.3.3\">Подбор гипперпараметров модели</a></span></li></ul></li><li><span><a href=\"#Тестирование-модели\" data-toc-modified-id=\"Тестирование-модели-2.4\">Тестирование модели</a></span></li></ul></li></ul></div>"
   ]
  },
  {
   "cell_type": "markdown",
   "id": "ab225549",
   "metadata": {},
   "source": [
    "# Создание разметки"
   ]
  },
  {
   "cell_type": "code",
   "execution_count": 1,
   "id": "e4a3d30a",
   "metadata": {},
   "outputs": [],
   "source": [
    "import os\n",
    "import re\n",
    "import time\n",
    "import math\n",
    "import requests\n",
    "import numpy as np\n",
    "import pandas as pd\n",
    "from IPython.display import HTML\n",
    "\n",
    "from concurrent.futures import ThreadPoolExecutor\n",
    "\n",
    "from datetime import datetime, timedelta\n",
    "\n",
    "import matplotlib.pyplot as plt\n",
    "import seaborn as sns\n",
    "\n",
    "#import plotly\n",
    "#import plotly.offline as py #working offline\n",
    "#import plotly.graph_objs as go\n",
    "#import plotly.express as px\n",
    "\n",
    "from sklearn.model_selection import train_test_split\n",
    "from sklearn.model_selection import cross_val_score\n",
    "from sklearn.metrics import precision_score\n",
    "\n",
    "from catboost import CatBoostClassifier"
   ]
  },
  {
   "cell_type": "code",
   "execution_count": 2,
   "id": "37e17dfa",
   "metadata": {},
   "outputs": [],
   "source": [
    "import warnings\n",
    "warnings.filterwarnings(\"ignore\")"
   ]
  },
  {
   "cell_type": "code",
   "execution_count": 3,
   "id": "2176c1c3",
   "metadata": {},
   "outputs": [],
   "source": [
    "#py.init_notebook_mode()\n",
    "sns.set_theme(style='whitegrid')\n",
    "plt.rcParams[\"figure.figsize\"] = (18,6)\n",
    "plt.rcParams[\"figure.dpi\"] = 80\n",
    "plt.rcParams[\"figure.titlesize\"] = 20\n",
    "plt.rcParams[\"axes.labelsize\"] = 14\n",
    "plt.rcParams[\"axes.titlesize\"] = 16\n",
    "plt.rcParams[\"xtick.labelsize\"] = 12\n",
    "plt.rcParams[\"ytick.labelsize\"] = 12"
   ]
  },
  {
   "cell_type": "markdown",
   "id": "93a7c446",
   "metadata": {},
   "source": [
    "## Загрузка данных"
   ]
  },
  {
   "cell_type": "code",
   "execution_count": 25,
   "id": "1ac1714c",
   "metadata": {},
   "outputs": [],
   "source": [
    "path = r'd:\\Мои документы\\datasets\\mtc'\n",
    "\n",
    "file_name = 'host_hachathon.csv'\n",
    "all_data = 'host.csv'\n",
    "\n",
    "df = pd.read_csv(os.path.join(path, file_name), header = None, names=['domen_name'])\n",
    "all_data = pd.read_csv(os.path.join(path, all_data), header = None, names=['domen_name'])"
   ]
  },
  {
   "cell_type": "code",
   "execution_count": 5,
   "id": "5fb59393",
   "metadata": {},
   "outputs": [],
   "source": [
    "#df_sample = all_data.iloc[30000:40000,:].copy()"
   ]
  },
  {
   "cell_type": "markdown",
   "id": "20bac108",
   "metadata": {},
   "source": [
    "## Функции"
   ]
  },
  {
   "cell_type": "markdown",
   "id": "6c666286",
   "metadata": {},
   "source": [
    "### Get"
   ]
  },
  {
   "cell_type": "code",
   "execution_count": 6,
   "id": "2c36d962",
   "metadata": {},
   "outputs": [],
   "source": [
    "def get_func(x):\n",
    "    try:\n",
    "        r = requests.get(x, timeout=3)#.headers['Content-Type']\n",
    "        r.headers['Content-Type']\n",
    "        return 0, r.status_code\n",
    "    except:\n",
    "        return 1, None"
   ]
  },
  {
   "cell_type": "markdown",
   "id": "19ad789d",
   "metadata": {},
   "source": [
    "### Outliers"
   ]
  },
  {
   "cell_type": "code",
   "execution_count": 7,
   "id": "0f9d2c80",
   "metadata": {},
   "outputs": [],
   "source": [
    "def drop_outliers(series, n_of_iqr=1.5):\n",
    "    q75, q25 = np.nanpercentile(series,(75,25))\n",
    "    iqr = q75 - q25\n",
    "\n",
    "    max_value = q75 + (n_of_iqr * iqr)\n",
    "    min_value = q25 - (n_of_iqr * iqr)\n",
    "\n",
    "    series.loc[series < min_value] = np.nan\n",
    "    series.loc[series > max_value] = np.nan"
   ]
  },
  {
   "cell_type": "markdown",
   "id": "1f0603cc",
   "metadata": {},
   "source": [
    "### Уменьшение категорий в фичах"
   ]
  },
  {
   "cell_type": "code",
   "execution_count": 8,
   "id": "31e47749",
   "metadata": {},
   "outputs": [],
   "source": [
    "def cat_featering(feature_name):\n",
    "    series = df_sample[feature_name].value_counts(normalize=True).copy()\n",
    "    drop_outliers(series)\n",
    "\n",
    "    df_sample[feature_name] = df_sample[feature_name].apply(lambda x: 'OTHER' if x in series.dropna().index else x)\n",
    "    del series\n",
    "    #return df_sample[feature_name].value_counts(normalize=True)"
   ]
  },
  {
   "cell_type": "markdown",
   "id": "3975eb0e",
   "metadata": {},
   "source": [
    "## Количество потоков в вычислении"
   ]
  },
  {
   "cell_type": "code",
   "execution_count": 9,
   "id": "3d744ad1",
   "metadata": {},
   "outputs": [],
   "source": [
    "Thread = 32"
   ]
  },
  {
   "cell_type": "markdown",
   "id": "f7ec61af",
   "metadata": {},
   "source": [
    "## Sample_100"
   ]
  },
  {
   "cell_type": "markdown",
   "id": "9f52c2fd",
   "metadata": {},
   "source": [
    "```python\n",
    "df['url'] = df.iloc[:,0].apply(lambda x: f'http://{x}')\n",
    "urls = df['url'].to_list()\n",
    "\n",
    "start_time = time.time()\n",
    "\n",
    "with ThreadPoolExecutor(Thread) as executor:\n",
    "    result = executor.map(get_func, urls)\n",
    "\n",
    "df['label'] = pd.Series(result)\n",
    "df['status_code'] = df['label'].apply(lambda x: str(x[1]))\n",
    "df['label'] = df['label'].apply(lambda x: x[0])\n",
    "\n",
    "spent_time = time.time() - start_time\n",
    "\n",
    "display(spent_time)\n",
    "df\n",
    "```"
   ]
  },
  {
   "cell_type": "markdown",
   "id": "81ff567b",
   "metadata": {},
   "source": [
    "## Sample_500"
   ]
  },
  {
   "cell_type": "markdown",
   "id": "cc1d43a0",
   "metadata": {},
   "source": [
    "```python\n",
    "all_data['url'] = all_data.iloc[:,0].apply(lambda x: f'http://{x}')\n",
    "#url_33 = all_data[all_data.iloc[:,0].str.split('.').apply(len) == 33].iloc[:,1].to_list()\n",
    "url_2 = all_data[all_data.iloc[:,0].str.split('.').apply(len) == 2].\\\n",
    "    sample(n=500, random_state=42).reset_index(drop=True).iloc[:,1].to_list()\n",
    "\n",
    "start_time = time.time()\n",
    "\n",
    "with ThreadPoolExecutor(Thread) as executor:\n",
    "    result = executor.map(get_func, url_2)\n",
    "\n",
    "spent_time = time.time() - start_time\n",
    "\n",
    "display(spent_time)\n",
    "pd.DataFrame(result, columns=['label', 'status_code'])\n",
    "```"
   ]
  },
  {
   "cell_type": "markdown",
   "id": "c95b5f3e",
   "metadata": {},
   "source": [
    "## Sample_10k"
   ]
  },
  {
   "cell_type": "markdown",
   "id": "28a90dd0",
   "metadata": {},
   "source": [
    "```python\n",
    "df_sample['url'] = df_sample.iloc[:,0].apply(lambda x: f'http://{x}')\n",
    "urls = df_sample['url'].to_list()\n",
    "\n",
    "start_time = time.time()\n",
    "\n",
    "with ThreadPoolExecutor(Thread) as executor:\n",
    "    result = executor.map(get_func, urls)\n",
    "\n",
    "df_sample['label'] = pd.Series(result, index=df_sample.index)\n",
    "df_sample['status_code'] = df_sample['label'].apply(lambda x: str(x[1]))\n",
    "df_sample['label'] = df_sample['label'].apply(lambda x: x[0])\n",
    "\n",
    "spent_time = time.time() - start_time\n",
    "\n",
    "display(spent_time)\n",
    "df_sample\n",
    "```"
   ]
  },
  {
   "cell_type": "code",
   "execution_count": 10,
   "id": "e7b48e4c",
   "metadata": {},
   "outputs": [],
   "source": [
    "#file_name = 'df_with_label_30_40.csv'\n",
    "#df_sample.to_csv(os.path.join(path, file_name), index=True)"
   ]
  },
  {
   "cell_type": "markdown",
   "id": "f77c8102",
   "metadata": {},
   "source": [
    "# Работа с размеченными данными"
   ]
  },
  {
   "cell_type": "markdown",
   "id": "aa3856f6",
   "metadata": {},
   "source": [
    "## Загрузка размеченных данных"
   ]
  },
  {
   "cell_type": "code",
   "execution_count": 11,
   "id": "7abbe134",
   "metadata": {},
   "outputs": [
    {
     "data": {
      "text/html": [
       "<div>\n",
       "<style scoped>\n",
       "    .dataframe tbody tr th:only-of-type {\n",
       "        vertical-align: middle;\n",
       "    }\n",
       "\n",
       "    .dataframe tbody tr th {\n",
       "        vertical-align: top;\n",
       "    }\n",
       "\n",
       "    .dataframe thead th {\n",
       "        text-align: right;\n",
       "    }\n",
       "</style>\n",
       "<table border=\"1\" class=\"dataframe\">\n",
       "  <thead>\n",
       "    <tr style=\"text-align: right;\">\n",
       "      <th></th>\n",
       "      <th>domen_name</th>\n",
       "      <th>url</th>\n",
       "      <th>label</th>\n",
       "      <th>status_code</th>\n",
       "    </tr>\n",
       "  </thead>\n",
       "  <tbody>\n",
       "    <tr>\n",
       "      <th>0</th>\n",
       "      <td>api.browser.yandex.ru</td>\n",
       "      <td>http://api.browser.yandex.ru</td>\n",
       "      <td>1</td>\n",
       "      <td>None</td>\n",
       "    </tr>\n",
       "    <tr>\n",
       "      <th>1</th>\n",
       "      <td>sync.connectad.io</td>\n",
       "      <td>http://sync.connectad.io</td>\n",
       "      <td>0</td>\n",
       "      <td>200</td>\n",
       "    </tr>\n",
       "    <tr>\n",
       "      <th>2</th>\n",
       "      <td>statics.teams.microsoft.com</td>\n",
       "      <td>http://statics.teams.microsoft.com</td>\n",
       "      <td>1</td>\n",
       "      <td>None</td>\n",
       "    </tr>\n",
       "    <tr>\n",
       "      <th>3</th>\n",
       "      <td>0.pool.ntp.org</td>\n",
       "      <td>http://0.pool.ntp.org</td>\n",
       "      <td>0</td>\n",
       "      <td>200</td>\n",
       "    </tr>\n",
       "    <tr>\n",
       "      <th>4</th>\n",
       "      <td>web-gw-ru-21-13.voximplant.com</td>\n",
       "      <td>http://web-gw-ru-21-13.voximplant.com</td>\n",
       "      <td>1</td>\n",
       "      <td>None</td>\n",
       "    </tr>\n",
       "    <tr>\n",
       "      <th>...</th>\n",
       "      <td>...</td>\n",
       "      <td>...</td>\n",
       "      <td>...</td>\n",
       "      <td>...</td>\n",
       "    </tr>\n",
       "    <tr>\n",
       "      <th>9995</th>\n",
       "      <td>d280pffqtvekyf.cloudfront.net</td>\n",
       "      <td>http://d280pffqtvekyf.cloudfront.net</td>\n",
       "      <td>0</td>\n",
       "      <td>403</td>\n",
       "    </tr>\n",
       "    <tr>\n",
       "      <th>9996</th>\n",
       "      <td>yandex.st</td>\n",
       "      <td>http://yandex.st</td>\n",
       "      <td>0</td>\n",
       "      <td>200</td>\n",
       "    </tr>\n",
       "    <tr>\n",
       "      <th>9997</th>\n",
       "      <td>ocsp.usertrust.com</td>\n",
       "      <td>http://ocsp.usertrust.com</td>\n",
       "      <td>0</td>\n",
       "      <td>200</td>\n",
       "    </tr>\n",
       "    <tr>\n",
       "      <th>9998</th>\n",
       "      <td>cloud-api.yandex.net</td>\n",
       "      <td>http://cloud-api.yandex.net</td>\n",
       "      <td>1</td>\n",
       "      <td>None</td>\n",
       "    </tr>\n",
       "    <tr>\n",
       "      <th>9999</th>\n",
       "      <td>abt-prod-us-east-1-content-star-132865627.us-e...</td>\n",
       "      <td>http://abt-prod-us-east-1-content-star-1328656...</td>\n",
       "      <td>1</td>\n",
       "      <td>None</td>\n",
       "    </tr>\n",
       "  </tbody>\n",
       "</table>\n",
       "<p>10000 rows × 4 columns</p>\n",
       "</div>"
      ],
      "text/plain": [
       "                                             domen_name  \\\n",
       "0                                 api.browser.yandex.ru   \n",
       "1                                     sync.connectad.io   \n",
       "2                           statics.teams.microsoft.com   \n",
       "3                                        0.pool.ntp.org   \n",
       "4                        web-gw-ru-21-13.voximplant.com   \n",
       "...                                                 ...   \n",
       "9995                      d280pffqtvekyf.cloudfront.net   \n",
       "9996                                          yandex.st   \n",
       "9997                                 ocsp.usertrust.com   \n",
       "9998                               cloud-api.yandex.net   \n",
       "9999  abt-prod-us-east-1-content-star-132865627.us-e...   \n",
       "\n",
       "                                                    url  label status_code  \n",
       "0                          http://api.browser.yandex.ru      1        None  \n",
       "1                              http://sync.connectad.io      0         200  \n",
       "2                    http://statics.teams.microsoft.com      1        None  \n",
       "3                                 http://0.pool.ntp.org      0         200  \n",
       "4                 http://web-gw-ru-21-13.voximplant.com      1        None  \n",
       "...                                                 ...    ...         ...  \n",
       "9995               http://d280pffqtvekyf.cloudfront.net      0         403  \n",
       "9996                                   http://yandex.st      0         200  \n",
       "9997                          http://ocsp.usertrust.com      0         200  \n",
       "9998                        http://cloud-api.yandex.net      1        None  \n",
       "9999  http://abt-prod-us-east-1-content-star-1328656...      1        None  \n",
       "\n",
       "[10000 rows x 4 columns]"
      ]
     },
     "execution_count": 11,
     "metadata": {},
     "output_type": "execute_result"
    }
   ],
   "source": [
    "path = r'd:\\Мои документы\\datasets\\mtc'\n",
    "file_name = 'df_with_label_30_40.csv'\n",
    "\n",
    "df_sample = pd.read_csv(os.path.join(path, file_name)).drop(columns=['Unnamed: 0'])\n",
    "df_sample"
   ]
  },
  {
   "cell_type": "code",
   "execution_count": 12,
   "id": "7a9a3af5",
   "metadata": {},
   "outputs": [
    {
     "data": {
      "text/plain": [
       "0    7427\n",
       "1    2573\n",
       "Name: label, dtype: int64"
      ]
     },
     "execution_count": 12,
     "metadata": {},
     "output_type": "execute_result"
    }
   ],
   "source": [
    "df_sample['label'].value_counts()"
   ]
  },
  {
   "cell_type": "markdown",
   "id": "6150bf7a",
   "metadata": {},
   "source": [
    "## Создание фичей"
   ]
  },
  {
   "cell_type": "code",
   "execution_count": 13,
   "id": "b8441ab8",
   "metadata": {},
   "outputs": [],
   "source": [
    "df_sample['domen_name'] = df_sample['domen_name'].str.strip()\n",
    "df_sample['top_domen'] = df_sample['domen_name'].apply(lambda x: x.split('.')[-1])\n",
    "df_sample['2_domen'] = df_sample['domen_name'].apply(lambda x: x.split('.')[-2])\n",
    "df_sample['3_domen'] = df_sample['domen_name'].apply(lambda x: x.split('.')[-3] if len(x.split('.')) > 2 else None)\n",
    "\n",
    "df_sample['domen_len'] = df_sample['domen_name'].apply(lambda x: len(x.split('.')))\n",
    "df_sample['len_coeff'] = df_sample['domen_name'].apply(lambda x: len(''.join(x.split('.'))) / len(x.split('.')))"
   ]
  },
  {
   "cell_type": "code",
   "execution_count": 14,
   "id": "c03f2537",
   "metadata": {},
   "outputs": [
    {
     "data": {
      "text/plain": [
       "domen_name       0\n",
       "url              0\n",
       "label            0\n",
       "status_code      0\n",
       "top_domen        0\n",
       "2_domen          0\n",
       "3_domen        683\n",
       "domen_len        0\n",
       "len_coeff        0\n",
       "dtype: int64"
      ]
     },
     "execution_count": 14,
     "metadata": {},
     "output_type": "execute_result"
    }
   ],
   "source": [
    "df_sample.isna().sum()"
   ]
  },
  {
   "cell_type": "code",
   "execution_count": 15,
   "id": "4d5a1578",
   "metadata": {},
   "outputs": [],
   "source": [
    "df_sample['3_domen'].fillna('EMPTY', inplace=True)"
   ]
  },
  {
   "cell_type": "code",
   "execution_count": 16,
   "id": "50a9b7c9",
   "metadata": {},
   "outputs": [
    {
     "data": {
      "image/png": "[encoded data removed]",
      "text/plain": [
       "<Figure size 1440x480 with 1 Axes>"
      ]
     },
     "metadata": {},
     "output_type": "display_data"
    }
   ],
   "source": [
    "sns.histplot(df_sample['len_coeff'], bins=25)\n",
    "plt.show()"
   ]
  },
  {
   "cell_type": "code",
   "execution_count": 17,
   "id": "0c03a250",
   "metadata": {},
   "outputs": [],
   "source": [
    "cat_featering('top_domen')\n",
    "cat_featering('2_domen')\n",
    "cat_featering('3_domen')"
   ]
  },
  {
   "cell_type": "code",
   "execution_count": 18,
   "id": "1a833be0",
   "metadata": {},
   "outputs": [],
   "source": [
    "cat_features = ['top_domen', '2_domen', '3_domen']#'status_code',\n",
    "num_features = ['domen_len', 'len_coeff']\n",
    "\n",
    "df_sample[cat_features] = df_sample[cat_features].astype('category')"
   ]
  },
  {
   "cell_type": "code",
   "execution_count": 19,
   "id": "4568a32b",
   "metadata": {},
   "outputs": [
    {
     "name": "stdout",
     "output_type": "stream",
     "text": [
      "<class 'pandas.core.frame.DataFrame'>\n",
      "RangeIndex: 10000 entries, 0 to 9999\n",
      "Data columns (total 9 columns):\n",
      " #   Column       Non-Null Count  Dtype   \n",
      "---  ------       --------------  -----   \n",
      " 0   domen_name   10000 non-null  object  \n",
      " 1   url          10000 non-null  object  \n",
      " 2   label        10000 non-null  int64   \n",
      " 3   status_code  10000 non-null  object  \n",
      " 4   top_domen    10000 non-null  category\n",
      " 5   2_domen      10000 non-null  category\n",
      " 6   3_domen      10000 non-null  category\n",
      " 7   domen_len    10000 non-null  int64   \n",
      " 8   len_coeff    10000 non-null  float64 \n",
      "dtypes: category(3), float64(1), int64(2), object(3)\n",
      "memory usage: 535.1+ KB\n"
     ]
    }
   ],
   "source": [
    "df_sample.info()"
   ]
  },
  {
   "cell_type": "code",
   "execution_count": 20,
   "id": "7ce953e5",
   "metadata": {},
   "outputs": [
    {
     "data": {
      "text/html": [
       "<div>\n",
       "<style scoped>\n",
       "    .dataframe tbody tr th:only-of-type {\n",
       "        vertical-align: middle;\n",
       "    }\n",
       "\n",
       "    .dataframe tbody tr th {\n",
       "        vertical-align: top;\n",
       "    }\n",
       "\n",
       "    .dataframe thead th {\n",
       "        text-align: right;\n",
       "    }\n",
       "</style>\n",
       "<table border=\"1\" class=\"dataframe\">\n",
       "  <thead>\n",
       "    <tr style=\"text-align: right;\">\n",
       "      <th></th>\n",
       "      <th>domen_name</th>\n",
       "      <th>url</th>\n",
       "      <th>label</th>\n",
       "      <th>status_code</th>\n",
       "      <th>top_domen</th>\n",
       "      <th>2_domen</th>\n",
       "      <th>3_domen</th>\n",
       "      <th>domen_len</th>\n",
       "      <th>len_coeff</th>\n",
       "    </tr>\n",
       "  </thead>\n",
       "  <tbody>\n",
       "    <tr>\n",
       "      <th>0</th>\n",
       "      <td>api.browser.yandex.ru</td>\n",
       "      <td>http://api.browser.yandex.ru</td>\n",
       "      <td>1</td>\n",
       "      <td>None</td>\n",
       "      <td>ru</td>\n",
       "      <td>yandex</td>\n",
       "      <td>browser</td>\n",
       "      <td>4</td>\n",
       "      <td>4.500000</td>\n",
       "    </tr>\n",
       "    <tr>\n",
       "      <th>1</th>\n",
       "      <td>sync.connectad.io</td>\n",
       "      <td>http://sync.connectad.io</td>\n",
       "      <td>0</td>\n",
       "      <td>200</td>\n",
       "      <td>io</td>\n",
       "      <td>OTHER</td>\n",
       "      <td>sync</td>\n",
       "      <td>3</td>\n",
       "      <td>5.000000</td>\n",
       "    </tr>\n",
       "    <tr>\n",
       "      <th>2</th>\n",
       "      <td>statics.teams.microsoft.com</td>\n",
       "      <td>http://statics.teams.microsoft.com</td>\n",
       "      <td>1</td>\n",
       "      <td>None</td>\n",
       "      <td>com</td>\n",
       "      <td>microsoft</td>\n",
       "      <td>teams</td>\n",
       "      <td>4</td>\n",
       "      <td>6.000000</td>\n",
       "    </tr>\n",
       "    <tr>\n",
       "      <th>3</th>\n",
       "      <td>0.pool.ntp.org</td>\n",
       "      <td>http://0.pool.ntp.org</td>\n",
       "      <td>0</td>\n",
       "      <td>200</td>\n",
       "      <td>org</td>\n",
       "      <td>ntp</td>\n",
       "      <td>pool</td>\n",
       "      <td>4</td>\n",
       "      <td>2.750000</td>\n",
       "    </tr>\n",
       "    <tr>\n",
       "      <th>4</th>\n",
       "      <td>web-gw-ru-21-13.voximplant.com</td>\n",
       "      <td>http://web-gw-ru-21-13.voximplant.com</td>\n",
       "      <td>1</td>\n",
       "      <td>None</td>\n",
       "      <td>com</td>\n",
       "      <td>voximplant</td>\n",
       "      <td>OTHER</td>\n",
       "      <td>3</td>\n",
       "      <td>9.333333</td>\n",
       "    </tr>\n",
       "    <tr>\n",
       "      <th>...</th>\n",
       "      <td>...</td>\n",
       "      <td>...</td>\n",
       "      <td>...</td>\n",
       "      <td>...</td>\n",
       "      <td>...</td>\n",
       "      <td>...</td>\n",
       "      <td>...</td>\n",
       "      <td>...</td>\n",
       "      <td>...</td>\n",
       "    </tr>\n",
       "    <tr>\n",
       "      <th>9995</th>\n",
       "      <td>d280pffqtvekyf.cloudfront.net</td>\n",
       "      <td>http://d280pffqtvekyf.cloudfront.net</td>\n",
       "      <td>0</td>\n",
       "      <td>403</td>\n",
       "      <td>net</td>\n",
       "      <td>cloudfront</td>\n",
       "      <td>OTHER</td>\n",
       "      <td>3</td>\n",
       "      <td>9.000000</td>\n",
       "    </tr>\n",
       "    <tr>\n",
       "      <th>9996</th>\n",
       "      <td>yandex.st</td>\n",
       "      <td>http://yandex.st</td>\n",
       "      <td>0</td>\n",
       "      <td>200</td>\n",
       "      <td>st</td>\n",
       "      <td>yandex</td>\n",
       "      <td>EMPTY</td>\n",
       "      <td>2</td>\n",
       "      <td>4.000000</td>\n",
       "    </tr>\n",
       "    <tr>\n",
       "      <th>9997</th>\n",
       "      <td>ocsp.usertrust.com</td>\n",
       "      <td>http://ocsp.usertrust.com</td>\n",
       "      <td>0</td>\n",
       "      <td>200</td>\n",
       "      <td>com</td>\n",
       "      <td>OTHER</td>\n",
       "      <td>ocsp</td>\n",
       "      <td>3</td>\n",
       "      <td>5.333333</td>\n",
       "    </tr>\n",
       "    <tr>\n",
       "      <th>9998</th>\n",
       "      <td>cloud-api.yandex.net</td>\n",
       "      <td>http://cloud-api.yandex.net</td>\n",
       "      <td>1</td>\n",
       "      <td>None</td>\n",
       "      <td>net</td>\n",
       "      <td>yandex</td>\n",
       "      <td>OTHER</td>\n",
       "      <td>3</td>\n",
       "      <td>6.000000</td>\n",
       "    </tr>\n",
       "    <tr>\n",
       "      <th>9999</th>\n",
       "      <td>abt-prod-us-east-1-content-star-132865627.us-e...</td>\n",
       "      <td>http://abt-prod-us-east-1-content-star-1328656...</td>\n",
       "      <td>1</td>\n",
       "      <td>None</td>\n",
       "      <td>OTHER</td>\n",
       "      <td>elb</td>\n",
       "      <td>us-east-1</td>\n",
       "      <td>4</td>\n",
       "      <td>15.250000</td>\n",
       "    </tr>\n",
       "  </tbody>\n",
       "</table>\n",
       "<p>10000 rows × 9 columns</p>\n",
       "</div>"
      ],
      "text/plain": [
       "                                             domen_name  \\\n",
       "0                                 api.browser.yandex.ru   \n",
       "1                                     sync.connectad.io   \n",
       "2                           statics.teams.microsoft.com   \n",
       "3                                        0.pool.ntp.org   \n",
       "4                        web-gw-ru-21-13.voximplant.com   \n",
       "...                                                 ...   \n",
       "9995                      d280pffqtvekyf.cloudfront.net   \n",
       "9996                                          yandex.st   \n",
       "9997                                 ocsp.usertrust.com   \n",
       "9998                               cloud-api.yandex.net   \n",
       "9999  abt-prod-us-east-1-content-star-132865627.us-e...   \n",
       "\n",
       "                                                    url  label status_code  \\\n",
       "0                          http://api.browser.yandex.ru      1        None   \n",
       "1                              http://sync.connectad.io      0         200   \n",
       "2                    http://statics.teams.microsoft.com      1        None   \n",
       "3                                 http://0.pool.ntp.org      0         200   \n",
       "4                 http://web-gw-ru-21-13.voximplant.com      1        None   \n",
       "...                                                 ...    ...         ...   \n",
       "9995               http://d280pffqtvekyf.cloudfront.net      0         403   \n",
       "9996                                   http://yandex.st      0         200   \n",
       "9997                          http://ocsp.usertrust.com      0         200   \n",
       "9998                        http://cloud-api.yandex.net      1        None   \n",
       "9999  http://abt-prod-us-east-1-content-star-1328656...      1        None   \n",
       "\n",
       "     top_domen     2_domen    3_domen  domen_len  len_coeff  \n",
       "0           ru      yandex    browser          4   4.500000  \n",
       "1           io       OTHER       sync          3   5.000000  \n",
       "2          com   microsoft      teams          4   6.000000  \n",
       "3          org         ntp       pool          4   2.750000  \n",
       "4          com  voximplant      OTHER          3   9.333333  \n",
       "...        ...         ...        ...        ...        ...  \n",
       "9995       net  cloudfront      OTHER          3   9.000000  \n",
       "9996        st      yandex      EMPTY          2   4.000000  \n",
       "9997       com       OTHER       ocsp          3   5.333333  \n",
       "9998       net      yandex      OTHER          3   6.000000  \n",
       "9999     OTHER         elb  us-east-1          4  15.250000  \n",
       "\n",
       "[10000 rows x 9 columns]"
      ]
     },
     "execution_count": 20,
     "metadata": {},
     "output_type": "execute_result"
    }
   ],
   "source": [
    "df_sample"
   ]
  },
  {
   "cell_type": "markdown",
   "id": "cd869207",
   "metadata": {},
   "source": [
    "## Разработка модели"
   ]
  },
  {
   "cell_type": "markdown",
   "id": "a7422219",
   "metadata": {},
   "source": [
    "### Features & Target"
   ]
  },
  {
   "cell_type": "code",
   "execution_count": 21,
   "id": "0180a191",
   "metadata": {},
   "outputs": [],
   "source": [
    "features = df_sample.drop(columns=['domen_name', 'url', 'label', 'status_code'])\n",
    "target = df_sample['label']"
   ]
  },
  {
   "cell_type": "markdown",
   "id": "fa6f1b19",
   "metadata": {},
   "source": [
    "### Train & Test"
   ]
  },
  {
   "cell_type": "code",
   "execution_count": 22,
   "id": "94453623",
   "metadata": {},
   "outputs": [],
   "source": [
    "X_train, X_test, y_train, y_test = train_test_split(features, target, test_size=0.25, random_state=42)"
   ]
  },
  {
   "cell_type": "markdown",
   "id": "498dd449",
   "metadata": {},
   "source": [
    "### Подбор гипперпараметров модели"
   ]
  },
  {
   "cell_type": "code",
   "execution_count": 23,
   "id": "43bcb614",
   "metadata": {},
   "outputs": [
    {
     "data": {
      "text/html": [
       "<b>Гиппер параметр n_estimators: </b> <code>280</code>"
      ],
      "text/plain": [
       "<IPython.core.display.HTML object>"
      ]
     },
     "metadata": {},
     "output_type": "display_data"
    },
    {
     "data": {
      "text/html": [
       "<b>Лучший precision_score: </b> <code>0.884</code>"
      ],
      "text/plain": [
       "<IPython.core.display.HTML object>"
      ]
     },
     "metadata": {},
     "output_type": "display_data"
    },
    {
     "data": {
      "text/html": [
       "<b>Время обучения: </b> <code>33.733</code> c"
      ],
      "text/plain": [
       "<IPython.core.display.HTML object>"
      ]
     },
     "metadata": {},
     "output_type": "display_data"
    }
   ],
   "source": [
    "best_score = 0\n",
    "estimators = 0\n",
    "start_time = time.time()\n",
    "\n",
    "for i in np.arange(180, 320, 20):\n",
    "    model = CatBoostClassifier(n_estimators=i,\n",
    "                              learning_rate=0.99,\n",
    "                              depth=3,\n",
    "                              cat_features=cat_features,\n",
    "                              verbose=False,\n",
    "                              random_state=12345,\n",
    "#                              loss_function='RMSE',\n",
    "                             )\n",
    "\n",
    "    n_scores = cross_val_score(model,\n",
    "                               X_train,\n",
    "                               y_train,\n",
    "                               scoring='precision_macro',\n",
    "                               cv=5,\n",
    "                               n_jobs=-1,\n",
    "                               error_score='raise'\n",
    "                              )\n",
    "\n",
    "    score = np.mean(np.abs(n_scores))\n",
    "\n",
    "    if score > best_score:\n",
    "        best_score = score\n",
    "        estimators = i\n",
    "\n",
    "fit_time = time.time() - start_time\n",
    "\n",
    "display(HTML(f'<b>Гиппер параметр n_estimators: </b> <code>{estimators}</code>'))\n",
    "display(HTML(f'<b>Лучший precision_score: </b> <code>{best_score:,.3f}</code>'))\n",
    "display(HTML(f'<b>Время обучения: </b> <code>{fit_time:,.3f}</code> c'))"
   ]
  },
  {
   "cell_type": "markdown",
   "id": "fbe6bdf3",
   "metadata": {},
   "source": [
    "## Тестирование модели"
   ]
  },
  {
   "cell_type": "code",
   "execution_count": 24,
   "id": "adae42b7",
   "metadata": {},
   "outputs": [
    {
     "data": {
      "text/html": [
       "<b>precision_score на тестовой выборке: </b> <code>0.880</code>"
      ],
      "text/plain": [
       "<IPython.core.display.HTML object>"
      ]
     },
     "metadata": {},
     "output_type": "display_data"
    }
   ],
   "source": [
    "model = CatBoostClassifier(n_estimators=estimators,\n",
    "                          learning_rate=0.95,\n",
    "                          depth=3,\n",
    "                          cat_features=cat_features,\n",
    "                          verbose=False,\n",
    "                          random_state=12345,\n",
    "                         )\n",
    "model.fit(X_train, y_train)\n",
    "score_test = precision_score(y_test, model.predict(X_test), average='macro')\n",
    "\n",
    "display(HTML(f'<b>precision_score на тестовой выборке: </b> <code>{score_test:,.3f}</code>'))"
   ]
  },
  {
   "cell_type": "code",
   "execution_count": null,
   "id": "f36ed1a2",
   "metadata": {},
   "outputs": [],
   "source": []
  }
 ],
 "metadata": {
  "kernelspec": {
   "display_name": "Python 3",
   "language": "python",
   "name": "python3"
  },
  "language_info": {
   "codemirror_mode": {
    "name": "ipython",
    "version": 3
   },
   "file_extension": ".py",
   "mimetype": "text/x-python",
   "name": "python",
   "nbconvert_exporter": "python",
   "pygments_lexer": "ipython3",
   "version": "3.8.8"
  },
  "toc": {
   "base_numbering": 1,
   "nav_menu": {},
   "number_sections": false,
   "sideBar": true,
   "skip_h1_title": false,
   "title_cell": "Table of Contents",
   "title_sidebar": "Contents",
   "toc_cell": true,
   "toc_position": {},
   "toc_section_display": true,
   "toc_window_display": true
  }
 },
 "nbformat": 4,
 "nbformat_minor": 5
}
